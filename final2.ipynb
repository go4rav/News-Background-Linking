{
 "cells": [
  {
   "cell_type": "code",
   "execution_count": 42,
   "metadata": {},
   "outputs": [],
   "source": [
    "# import dependencies\n",
    "%matplotlib inline\n",
    "import json\n",
    "import pandas as pd\n",
    "from pandas.io.json import json_normalize\n",
    "import numpy as np\n",
    "import nltk\n",
    "from nltk.corpus import stopwords\n",
    "import gensim\n",
    "from gensim.models import LdaModel\n",
    "from gensim import models, corpora, similarities\n",
    "import re\n",
    "from nltk.stem.porter import PorterStemmer\n",
    "import time\n",
    "from nltk import FreqDist\n",
    "from scipy.stats import entropy\n",
    "import matplotlib.pyplot as plt\n",
    "import seaborn as sns\n",
    "sns.set_style(\"darkgrid\")"
   ]
  },
  {
   "cell_type": "code",
   "execution_count": 148,
   "metadata": {},
   "outputs": [
    {
     "name": "stdout",
     "output_type": "stream",
     "text": [
      "TREC_article_2012.txt\n",
      "\n",
      "TREC_article_2013.txt\n",
      "\n",
      "TREC_article_2014.txt\n",
      "\n",
      "TREC_article_2015.txt\n",
      "\n",
      "TREC_article_2016.txt\n",
      "\n",
      "TREC_article_2017.txt\n",
      "\n",
      "TREC_blog_2012.txt\n",
      "\n",
      "TREC_blog_2013.txt\n",
      "\n",
      "TREC_blog_2014.txt\n",
      "\n",
      "TREC_blog_2015.txt\n",
      "\n",
      "TREC_blog_2016.txt\n",
      "\n",
      "TREC_blog_2017.txt\n"
     ]
    }
   ],
   "source": [
    "content = []\n",
    "with open('file.txt','r+') as doc:\n",
    "    for line in doc:\n",
    "        print(line)\n",
    "        line=line.strip()\n",
    "        with open(line,'rb') as f:\n",
    "            content=f.readlines()\n",
    "    "
   ]
  },
  {
   "cell_type": "code",
   "execution_count": 71,
   "metadata": {
    "scrolled": true
   },
   "outputs": [
    {
     "name": "stderr",
     "output_type": "stream",
     "text": [
      "IOPub data rate exceeded.\n",
      "The notebook server will temporarily stop sending output\n",
      "to the client in order to avoid crashing it.\n",
      "To change this limit, set the config variable\n",
      "`--NotebookApp.iopub_data_rate_limit`.\n",
      "\n",
      "Current values:\n",
      "NotebookApp.iopub_data_rate_limit=1000000.0 (bytes/sec)\n",
      "NotebookApp.rate_limit_window=3.0 (secs)\n",
      "\n"
     ]
    },
    {
     "name": "stdout",
     "output_type": "stream",
     "text": [
      "                                                 content\n",
      "0      ExpressMonth of MuscleBy Vicky Hallett13256089...\n",
      "1      ExpressMore Home Work(outs)By Vicky Hallett132...\n",
      "2      ExpressFind a Place in the CrowdBy Dr. Andrea ...\n",
      "3      ExpressJanuary Gym DealsBy Vicky Hallett132561...\n",
      "4      ExpressPumping IronyBy Vicky Hallett1325610957...\n",
      "5      ExpressStreet NonsenseBy Rudi Greenberg1325630...\n",
      "6      ExpressStreet NonsenseBy Rudi Greenberg1325630...\n",
      "7      ExpressSelf-Help for NerdsBy Rudi Greenberg132...\n",
      "8      ExpressAlways Up For a ChangeBy Stephen M. Deu...\n",
      "9      ExpressWhat the Devil?By Kristen Page-Kirby132...\n",
      "10     ExpressCharacter DevelopmentBy Kristen Page-Ki...\n",
      "11     ExpressOn the Spot: Eric WeinerBy Fiona Zublin...\n",
      "12     ExpressWordy! Verbose! Prolix!By Katie Aberbac...\n",
      "13     ExpressRejects' RevivalBy Katie Aberbach132577...\n",
      "14     ExpressUncommonly GoodBy Kristen Page-Kirby132...\n",
      "15     ExpressFace Time: Marc MorroneBy Express132584...\n",
      "16     ExpressBoard Riffs, Owl RackBy Jennifer Barger...\n",
      "17     ExpressThe Boot That's At IssueBy The Manolo13...\n",
      "18     ExpressBoozy BakingBy Katherine Boyle132584799...\n",
      "19     ExpressThe Wild CardBy Vicky Hallett1325849525...\n",
      "20     ExpressNew Year, New MusicBy Christopher Porte...\n",
      "21     ExpressStanding Still’s Not a ChoiceBy Vicky H...\n",
      "22     ExpressGear Up for Quitting TimeBy Dr. Andrea ...\n",
      "23     ExpressThe Course CorrectionsBy Vicky Hallett1...\n",
      "24     ExpressWhat Should the Doc Order?By Vicky Hall...\n",
      "25     ExpressJust Ask for DirectionsBy Vicky Hallett...\n",
      "26     ExpressIt’s for ComedyBy Rudi Greenberg1326236...\n",
      "27     ExpressOn the Spot: Claire Healy and Sean Cord...\n",
      "28     ExpressWhat America Isn’t HearingBy Kristen Pa...\n",
      "29     ExpressTaken With TabathaBy Marc Silver1326324...\n",
      "...                                                  ...\n",
      "15261  WonkblogObama’s wrong: This ‘cliff’ deal still...\n",
      "15262  Washington NationalsNationals prospects review...\n",
      "15263  WonkblogTuesday’s tax increase is the biggest ...\n",
      "15264  The InsiderMike Shanahan: Cedric Griffin eligi...\n",
      "15265  Post PoliticsBarney Frank opposes Hagel for de...\n",
      "15266  WonkblogHere’s what Republicans really hated a...\n",
      "15267  Post PoliticsNo House votes tonightBy Rosalind...\n",
      "15268  2chambersWife of Rep. John Lewis diesBy Ed O'K...\n",
      "15269  Right Turn‘Fiscal-cliff’ resolutionBy Jennifer...\n",
      "15270  Erik WempleHillary Clinton’s health: How to pr...\n",
      "15271  Post PoliticsClinton has blood clot near brain...\n",
      "15272  WonkblogAIG BailoutBy Neil Irwin1356991984000<...\n",
      "15273  Washington NationalsThe Nationals’ top stories...\n",
      "15274  PostPartisanPostScript: Perfect ending along c...\n",
      "15275  The InsiderKyle Shanahan won’t interview for v...\n",
      "15276  The Plum LineA deal liberals can live with — p...\n",
      "15277  WonkblogAIG to America: Thanks, guys!By Neil I...\n",
      "15278  WonkblogFive facts about the Biden-McConnell d...\n",
      "15279  WonkblogFive facts about the Biden-McConnell d...\n",
      "15280  Washington WizardsTrevor Ariza hoping to retur...\n",
      "15281  Post PoliticsRand Paul: Deal ‘will pass with b...\n",
      "15282  WonkblogpiechartBy Neil Irwin1356995116000<a h...\n",
      "15283  WonkblogpiechartBy Neil Irwin1356995116000<a h...\n",
      "15284  Post PoliticsU.S. officially hits debt ceiling...\n",
      "15285  Post PoliticsHouse likely to adjourn until noo...\n",
      "15286  WonkblogWho would foot the higher 2013 tax bil...\n",
      "15287  Post PoliticsSenate vote later ‘highly likely,...\n",
      "15288  Post Politics‘Fiscal cliff’: Three ways it’s g...\n",
      "15289  WonkblogpiechartBy Neil Irwin1356996486000<a h...\n",
      "15290  Post PoliticsBiden to visit Hill tonight: Repo...\n",
      "\n",
      "[15291 rows x 1 columns]\n"
     ]
    }
   ],
   "source": [
    "#content = []\n",
    "#with open('TREC_blog_2012.txt','rb') as f:\n",
    "#   content = f.readlines()\n",
    "content = [json.loads(x.strip()) for x in content]\n",
    "#print(content)\n",
    "\n",
    "data = json.loads(json.dumps(content))\n",
    "print(data)\n",
    "\n",
    "content_list = []\n",
    "for i in data:\n",
    "    string_content = \"\"\n",
    "    if \"contents\" in i:\n",
    "        for all in i[\"contents\"]:\n",
    "            if \"content\" in all:\n",
    "                # print(str(all[\"content\"]))\n",
    "                string_content = string_content + str(all[\"content\"])\n",
    "        content_list.append(string_content)\n",
    "\n",
    "\n",
    "df = pd.DataFrame({'content':content_list})\n",
    "print(df)\n",
    "k=0"
   ]
  },
  {
   "cell_type": "code",
   "execution_count": 72,
   "metadata": {},
   "outputs": [],
   "source": [
    "def initial_clean(text):\n",
    "    \"\"\"\n",
    "    Function to clean text of websites, email addresess and any punctuation\n",
    "    We also lower case the text\n",
    "    \"\"\"\n",
    "    \n",
    "    text = re.sub(\"[^a-zA-Z ]\", \"\", text)\n",
    "    text = text.lower() # lower case the text\n",
    "    text = nltk.word_tokenize(text)\n",
    "    return text\n",
    "\n",
    "stop_words = stopwords.words('english')\n",
    "def remove_stop_words(text):\n",
    "    \"\"\"\n",
    "    Function that removes all stopwords from text\n",
    "    \"\"\"\n",
    "    return [word for word in text if word not in stop_words]\n",
    "\n",
    "stemmer = PorterStemmer()\n",
    "def stem_words(text):\n",
    "    \"\"\"\n",
    "    Function to stem words, so plural and singular are treated the same\n",
    "    \"\"\"\n",
    "    try:\n",
    "        text = [stemmer.stem(word) for word in text]\n",
    "        text = [word for word in text if len(word) > 1] # make sure we have no 1 letter words\n",
    "    except IndexError: # the word \"oed\" broke this, so needed try except\n",
    "        pass\n",
    "    return text\n",
    "\n",
    "def apply_all(text):\n",
    "    \"\"\"\n",
    "    This function applies all the functions above into one\n",
    "    \"\"\"\n",
    "    return stem_words(remove_stop_words(initial_clean(text)))"
   ]
  },
  {
   "cell_type": "code",
   "execution_count": 73,
   "metadata": {},
   "outputs": [
    {
     "name": "stdout",
     "output_type": "stream",
     "text": [
      "Time to clean and tokenize 15291 articles: 4.78753897746404 min\n"
     ]
    }
   ],
   "source": [
    "t1 = time.time()\n",
    "df['tokenized'] = df['content'].apply(apply_all)\n",
    "t2 = time.time()\n",
    "print(\"Time to clean and tokenize\", len(df), \"articles:\", (t2-t1)/60, \"min\")"
   ]
  },
  {
   "cell_type": "code",
   "execution_count": 84,
   "metadata": {},
   "outputs": [
    {
     "data": {
      "text/plain": [
       "278785"
      ]
     },
     "execution_count": 84,
     "metadata": {},
     "output_type": "execute_result"
    }
   ],
   "source": [
    "# first get a list of all words\n",
    "all_words = [word for item in list(df['tokenized']) for word in item]\n",
    "# use nltk fdist to get a frequency distribution of all words\n",
    "fdist = FreqDist(all_words)\n",
    "len(fdist) # number of unique words"
   ]
  },
  {
   "cell_type": "code",
   "execution_count": 90,
   "metadata": {},
   "outputs": [
    {
     "data": {
      "text/plain": [
       "[('nonfarm', 30),\n",
       " ('idmorespanbut', 30),\n",
       " ('omit', 30),\n",
       " ('entrepreneuri', 30),\n",
       " ('withdrawn', 30),\n",
       " ('fodder', 30),\n",
       " ('liar', 30),\n",
       " ('washingtonpostcom', 30),\n",
       " ('aflcio', 30),\n",
       " ('percentbut', 30)]"
      ]
     },
     "execution_count": 90,
     "metadata": {},
     "output_type": "execute_result"
    }
   ],
   "source": [
    "# choose k and visually inspect the bottom 10 words of the top k\n",
    "k = 9000\n",
    "top_k_words = fdist.most_common(k)\n",
    "top_k_words[-10:]"
   ]
  },
  {
   "cell_type": "code",
   "execution_count": 91,
   "metadata": {},
   "outputs": [],
   "source": [
    "# define a function only to keep words in the top k words\n",
    "top_k_words,_ = zip(*fdist.most_common(k))\n",
    "top_k_words = set(top_k_words)\n",
    "def keep_top_k_words(text):\n",
    "    return [word for word in text if word in top_k_words]"
   ]
  },
  {
   "cell_type": "code",
   "execution_count": 92,
   "metadata": {},
   "outputs": [],
   "source": [
    "df['tokenized'] = df['tokenized'].apply(keep_top_k_words)"
   ]
  },
  {
   "cell_type": "code",
   "execution_count": 93,
   "metadata": {},
   "outputs": [
    {
     "name": "stdout",
     "output_type": "stream",
     "text": [
      "length of list: 15291 \n",
      "average document length 247.77012621803675 \n",
      "minimum document length 0 \n",
      "maximum document length 11598\n"
     ]
    }
   ],
   "source": [
    "df['doc_len'] = df['tokenized'].apply(lambda x: len(x))\n",
    "doc_lengths = list(df['doc_len'])\n",
    "df.drop(labels='doc_len', axis=1, inplace=True)\n",
    "\n",
    "print(\"length of list:\",len(doc_lengths),\n",
    "      \"\\naverage document length\", np.average(doc_lengths),\n",
    "      \"\\nminimum document length\", min(doc_lengths),\n",
    "      \"\\nmaximum document length\", max(doc_lengths))"
   ]
  },
  {
   "cell_type": "code",
   "execution_count": 94,
   "metadata": {},
   "outputs": [
    {
     "name": "stderr",
     "output_type": "stream",
     "text": [
      "C:\\ProgramData\\Anaconda3\\lib\\site-packages\\matplotlib\\axes\\_axes.py:6521: MatplotlibDeprecationWarning: \n",
      "The 'normed' kwarg was deprecated in Matplotlib 2.1 and will be removed in 3.1. Use 'density' instead.\n",
      "  alternative=\"'density'\", removal=\"3.1\")\n"
     ]
    },
    {
     "data": {
      "image/png": "[encoded data removed]",
      "text/plain": [
       "<Figure size 864x432 with 1 Axes>"
      ]
     },
     "metadata": {},
     "output_type": "display_data"
    }
   ],
   "source": [
    "\n",
    "# plot a histogram of document length\n",
    "num_bins = 1000\n",
    "fig, ax = plt.subplots(figsize=(12,6));\n",
    "# the histogram of the data\n",
    "n, bins, patches = ax.hist(doc_lengths, num_bins, normed=1)\n",
    "ax.set_xlabel('Document Length (tokens)', fontsize=15)\n",
    "ax.set_ylabel('Normed Frequency', fontsize=15)\n",
    "ax.grid()\n",
    "ax.set_xticks(np.logspace(start=np.log10(50),stop=np.log10(2000),num=8, base=10.0))\n",
    "plt.xlim(0,2000)\n",
    "ax.plot([np.average(doc_lengths) for i in np.linspace(0.0,0.0035,100)], np.linspace(0.0,0.0035,100), '-',\n",
    "        label='average doc length')\n",
    "ax.legend()\n",
    "ax.grid()\n",
    "fig.tight_layout()\n",
    "plt.show()"
   ]
  },
  {
   "cell_type": "code",
   "execution_count": 95,
   "metadata": {},
   "outputs": [
    {
     "name": "stdout",
     "output_type": "stream",
     "text": [
      "After cleaning and excluding short aticles, the dataframe now has: 13322 articles\n"
     ]
    }
   ],
   "source": [
    "# only keep articles with more than 30 tokens, otherwise too short\n",
    "df = df[df['tokenized'].map(len) >= 40]\n",
    "# make sure all tokenized items are lists\n",
    "df = df[df['tokenized'].map(type) == list]\n",
    "df.reset_index(drop=True,inplace=True)\n",
    "print(\"After cleaning and excluding short aticles, the dataframe now has:\", len(df), \"articles\")"
   ]
  },
  {
   "cell_type": "code",
   "execution_count": 96,
   "metadata": {},
   "outputs": [
    {
     "data": {
      "text/html": [
       "<div>\n",
       "<style scoped>\n",
       "    .dataframe tbody tr th:only-of-type {\n",
       "        vertical-align: middle;\n",
       "    }\n",
       "\n",
       "    .dataframe tbody tr th {\n",
       "        vertical-align: top;\n",
       "    }\n",
       "\n",
       "    .dataframe thead th {\n",
       "        text-align: right;\n",
       "    }\n",
       "</style>\n",
       "<table border=\"1\" class=\"dataframe\">\n",
       "  <thead>\n",
       "    <tr style=\"text-align: right;\">\n",
       "      <th></th>\n",
       "      <th>content</th>\n",
       "      <th>tokenized</th>\n",
       "    </tr>\n",
       "  </thead>\n",
       "  <tbody>\n",
       "    <tr>\n",
       "      <th>0</th>\n",
       "      <td>ExpressMonth of MuscleBy Vicky Hallett13256089...</td>\n",
       "      <td>[vicki, trainer, nicol, nichol, ask, day, get,...</td>\n",
       "    </tr>\n",
       "    <tr>\n",
       "      <th>1</th>\n",
       "      <td>ExpressMore Home Work(outs)By Vicky Hallett132...</td>\n",
       "      <td>[home, vicki, train, jacki, day, fast, bodi, j...</td>\n",
       "    </tr>\n",
       "    <tr>\n",
       "      <th>2</th>\n",
       "      <td>ExpressFind a Place in the CrowdBy Dr. Andrea ...</td>\n",
       "      <td>[place, dr, andrea, feel, like, im, constantli...</td>\n",
       "    </tr>\n",
       "    <tr>\n",
       "      <th>3</th>\n",
       "      <td>ExpressJanuary Gym DealsBy Vicky Hallett132561...</td>\n",
       "      <td>[gym, vicki, quit, possibl, worst, time, year,...</td>\n",
       "    </tr>\n",
       "    <tr>\n",
       "      <th>4</th>\n",
       "      <td>ExpressPumping IronyBy Vicky Hallett1325610957...</td>\n",
       "      <td>[vicki, method, slim, involv, frozen, food, sm...</td>\n",
       "    </tr>\n",
       "  </tbody>\n",
       "</table>\n",
       "</div>"
      ],
      "text/plain": [
       "                                             content  \\\n",
       "0  ExpressMonth of MuscleBy Vicky Hallett13256089...   \n",
       "1  ExpressMore Home Work(outs)By Vicky Hallett132...   \n",
       "2  ExpressFind a Place in the CrowdBy Dr. Andrea ...   \n",
       "3  ExpressJanuary Gym DealsBy Vicky Hallett132561...   \n",
       "4  ExpressPumping IronyBy Vicky Hallett1325610957...   \n",
       "\n",
       "                                           tokenized  \n",
       "0  [vicki, trainer, nicol, nichol, ask, day, get,...  \n",
       "1  [home, vicki, train, jacki, day, fast, bodi, j...  \n",
       "2  [place, dr, andrea, feel, like, im, constantli...  \n",
       "3  [gym, vicki, quit, possibl, worst, time, year,...  \n",
       "4  [vicki, method, slim, involv, frozen, food, sm...  "
      ]
     },
     "execution_count": 96,
     "metadata": {},
     "output_type": "execute_result"
    }
   ],
   "source": [
    "df.head()"
   ]
  },
  {
   "cell_type": "code",
   "execution_count": 97,
   "metadata": {},
   "outputs": [],
   "source": [
    "# create a mask of binary values\n",
    "msk = np.random.rand(len(df)) < 0.999"
   ]
  },
  {
   "cell_type": "code",
   "execution_count": 98,
   "metadata": {},
   "outputs": [],
   "source": [
    "train_df = df[msk]\n",
    "train_df.reset_index(drop=True,inplace=True)\n",
    "\n",
    "test_df = df[~msk]\n",
    "test_df.reset_index(drop=True,inplace=True)"
   ]
  },
  {
   "cell_type": "code",
   "execution_count": 99,
   "metadata": {},
   "outputs": [
    {
     "name": "stdout",
     "output_type": "stream",
     "text": [
      "13322 13304 18\n"
     ]
    }
   ],
   "source": [
    "print(len(df),len(train_df),len(test_df))"
   ]
  },
  {
   "cell_type": "code",
   "execution_count": 100,
   "metadata": {},
   "outputs": [
    {
     "name": "stdout",
     "output_type": "stream",
     "text": [
      "                                                 content  \\\n",
      "0      ExpressMonth of MuscleBy Vicky Hallett13256089...   \n",
      "1      ExpressMore Home Work(outs)By Vicky Hallett132...   \n",
      "2      ExpressFind a Place in the CrowdBy Dr. Andrea ...   \n",
      "3      ExpressJanuary Gym DealsBy Vicky Hallett132561...   \n",
      "4      ExpressPumping IronyBy Vicky Hallett1325610957...   \n",
      "5      ExpressStreet NonsenseBy Rudi Greenberg1325630...   \n",
      "6      ExpressStreet NonsenseBy Rudi Greenberg1325630...   \n",
      "7      ExpressSelf-Help for NerdsBy Rudi Greenberg132...   \n",
      "8      ExpressAlways Up For a ChangeBy Stephen M. Deu...   \n",
      "9      ExpressWhat the Devil?By Kristen Page-Kirby132...   \n",
      "10     ExpressCharacter DevelopmentBy Kristen Page-Ki...   \n",
      "11     ExpressOn the Spot: Eric WeinerBy Fiona Zublin...   \n",
      "12     ExpressWordy! Verbose! Prolix!By Katie Aberbac...   \n",
      "13     ExpressRejects' RevivalBy Katie Aberbach132577...   \n",
      "14     ExpressUncommonly GoodBy Kristen Page-Kirby132...   \n",
      "15     ExpressFace Time: Marc MorroneBy Express132584...   \n",
      "16     ExpressBoard Riffs, Owl RackBy Jennifer Barger...   \n",
      "17     ExpressThe Boot That's At IssueBy The Manolo13...   \n",
      "18     ExpressBoozy BakingBy Katherine Boyle132584799...   \n",
      "19     ExpressThe Wild CardBy Vicky Hallett1325849525...   \n",
      "20     ExpressNew Year, New MusicBy Christopher Porte...   \n",
      "21     ExpressStanding Still’s Not a ChoiceBy Vicky H...   \n",
      "22     ExpressGear Up for Quitting TimeBy Dr. Andrea ...   \n",
      "23     ExpressThe Course CorrectionsBy Vicky Hallett1...   \n",
      "24     ExpressWhat Should the Doc Order?By Vicky Hall...   \n",
      "25     ExpressJust Ask for DirectionsBy Vicky Hallett...   \n",
      "26     ExpressIt’s for ComedyBy Rudi Greenberg1326236...   \n",
      "27     ExpressOn the Spot: Claire Healy and Sean Cord...   \n",
      "28     ExpressWhat America Isn’t HearingBy Kristen Pa...   \n",
      "29     ExpressTaken With TabathaBy Marc Silver1326324...   \n",
      "...                                                  ...   \n",
      "13292  The FixMcConnell: ‘We are very, very close’By ...   \n",
      "13293  The FixMcConnell: ‘We are very, very close’By ...   \n",
      "13294  Post PoliticsMcConnell: We’re ‘very close’By R...   \n",
      "13295  Early LeadJon Gruden will interview for NFL jo...   \n",
      "13296  The Plum LineA combative Obama calls, again, f...   \n",
      "13297  WonkblogObama’s wrong: This ‘cliff’ deal still...   \n",
      "13298  Washington NationalsNationals prospects review...   \n",
      "13299  WonkblogTuesday’s tax increase is the biggest ...   \n",
      "13300  The InsiderMike Shanahan: Cedric Griffin eligi...   \n",
      "13301  Post PoliticsBarney Frank opposes Hagel for de...   \n",
      "13302  WonkblogHere’s what Republicans really hated a...   \n",
      "13303  Post PoliticsNo House votes tonightBy Rosalind...   \n",
      "13304  2chambersWife of Rep. John Lewis diesBy Ed O'K...   \n",
      "13305  Right Turn‘Fiscal-cliff’ resolutionBy Jennifer...   \n",
      "13306  Erik WempleHillary Clinton’s health: How to pr...   \n",
      "13307  Post PoliticsClinton has blood clot near brain...   \n",
      "13308  Washington NationalsThe Nationals’ top stories...   \n",
      "13309  PostPartisanPostScript: Perfect ending along c...   \n",
      "13310  The InsiderKyle Shanahan won’t interview for v...   \n",
      "13311  The Plum LineA deal liberals can live with — p...   \n",
      "13312  WonkblogAIG to America: Thanks, guys!By Neil I...   \n",
      "13313  WonkblogFive facts about the Biden-McConnell d...   \n",
      "13314  WonkblogFive facts about the Biden-McConnell d...   \n",
      "13315  Washington WizardsTrevor Ariza hoping to retur...   \n",
      "13316  Post PoliticsRand Paul: Deal ‘will pass with b...   \n",
      "13317  Post PoliticsU.S. officially hits debt ceiling...   \n",
      "13318  Post PoliticsHouse likely to adjourn until noo...   \n",
      "13319  WonkblogWho would foot the higher 2013 tax bil...   \n",
      "13320  Post PoliticsSenate vote later ‘highly likely,...   \n",
      "13321  Post PoliticsBiden to visit Hill tonight: Repo...   \n",
      "\n",
      "                                               tokenized  \n",
      "0      [vicki, trainer, nicol, nichol, ask, day, get,...  \n",
      "1      [home, vicki, train, jacki, day, fast, bodi, j...  \n",
      "2      [place, dr, andrea, feel, like, im, constantli...  \n",
      "3      [gym, vicki, quit, possibl, worst, time, year,...  \n",
      "4      [vicki, method, slim, involv, frozen, food, sm...  \n",
      "5      [rudi, billi, game, show, host, twitter, gener...  \n",
      "6      [rudi, billi, game, show, host, twitter, gener...  \n",
      "7      [rudi, aim, move, geek, real, first, book, way...  \n",
      "8      [stephen, readi, second, decad, experiment, en...  \n",
      "9      [kristen, devil, insid, friday, follow, woman,...  \n",
      "10     [kristen, bring, up, down, life, gay, teen, bi...  \n",
      "11     [expresson, spot, eric, fiona, hospit, turn, h...  \n",
      "12     [kati, mel, work, captur, chang, cultur, natio...  \n",
      "13     [kati, washington, rescu, altern, vision, capi...  \n",
      "14     [kristen, truth, univers, acknowledg, davi, ta...  \n",
      "15     [expressfac, time, marc, stewart, goto, anim, ...  \n",
      "16     [riff, jennif, thick, itstrong, lock, alway, s...  \n",
      "17     [expressth, boot, that, search, perfect, pair,...  \n",
      "18     [katherin, right, pie, cupcak, two, someth, vi...  \n",
      "19     [expressth, wild, vicki, could, whistl, that, ...  \n",
      "20     [year, new, christoph, new, year, kick, find, ...  \n",
      "21     [still, vicki, bleak, obes, stat, prove, physi...  \n",
      "22     [quit, timebi, dr, andrea, year, gone, anoth, ...  \n",
      "23     [expressth, cours, vicki, chef, wife, menu, ke...  \n",
      "24     [doc, vicki, coach, promis, method, treat, don...  \n",
      "25     [ask, vicki, dark, realiz, couldnt, slim, got,...  \n",
      "26     [rudi, chang, slogan, alway, slightli, signal,...  \n",
      "27     [expresson, spot, clair, heali, sean, kristen,...  \n",
      "28     [america, isnt, kristen, voic, america, news, ...  \n",
      "29     [marc, killer, flu, left, unabl, much, besid, ...  \n",
      "...                                                  ...  \n",
      "13292  [aaron, sure, sign, receivea, hrefhttpssslwash...  \n",
      "13293  [aaron, sure, sign, receivea, hrefhttpssslwash...  \n",
      "13294  [post, rachel, weiner, rosalind, senat, floor,...  \n",
      "13295  [earli, gruden, interview, nfl, job, report, s...  \n",
      "13296  [plum, linea, comb, obama, call, balanc, dealb...  \n",
      "13297  [wonkblogobama, wrong, cliff, deal, still, rai...  \n",
      "13298  [washington, nationalsn, prospect, review, nat...  \n",
      "13299  [tax, increas, biggest, zachari, broad, like, ...  \n",
      "13300  [shanahan, cedric, griffin, elig, return, mike...  \n",
      "13301  [post, frank, oppos, hagel, defens, rachel, fr...  \n",
      "13302  [republican, realli, hate, obama, news, ezra, ...  \n",
      "13303  [post, hous, vote, rosalind, action, senat, le...  \n",
      "13304  [rep, john, lewi, ed, wife, rep, john, lewi, d...  \n",
      "13305  [right, jennif, appear, republican, democrat, ...  \n",
      "13306  [erik, clinton, health, properli, express, ske...  \n",
      "13307  [post, blood, near, brain, make, excel, david,...  \n",
      "13308  [washington, nation, top, stori, adam, kilgore...  \n",
      "13309  [perfect, end, along, cliff, edg, plum, rachel...  \n",
      "13310  [shanahan, wont, interview, vacanc, redskin, s...  \n",
      "13311  [plum, linea, deal, liber, live, pend, part, j...  \n",
      "13312  [america, thank, neil, giant, insur, compani, ...  \n",
      "13313  [fact, dealbi, suzi, khimmth, first, thing, ev...  \n",
      "13314  [fact, dealbi, suzi, khimmth, first, thing, ev...  \n",
      "13315  [washington, ariza, hope, return, weekbi, mich...  \n",
      "13316  [post, paul, deal, pass, bipartisan, felicia, ...  \n",
      "13317  [post, offici, hit, debt, felicia, post, treas...  \n",
      "13318  [post, like, noon, ed, senat, leader, work, de...  \n",
      "13319  [would, foot, higher, tax, bill, one, chartbi,...  \n",
      "13320  [post, vote, later, highli, like, corker, says...  \n",
      "13321  [post, politicsbiden, visit, hill, tonight, fe...  \n",
      "\n",
      "[13322 rows x 2 columns]\n"
     ]
    }
   ],
   "source": [
    "print(df)"
   ]
  },
  {
   "cell_type": "code",
   "execution_count": 101,
   "metadata": {},
   "outputs": [],
   "source": [
    "def train_lda(data):\n",
    "    \"\"\"\n",
    "    This function trains the lda model\n",
    "    We setup parameters like number of topics, the chunksize to use in Hoffman method\n",
    "    We also do 2 passes of the data since this is a small dataset, so we want the distributions to stabilize\n",
    "    \"\"\"\n",
    "    num_topics = 100\n",
    "    chunksize = 300\n",
    "    dictionary = corpora.Dictionary(data['tokenized'])\n",
    "    corpus = [dictionary.doc2bow(doc) for doc in data['tokenized']]\n",
    "    t1 = time.time()\n",
    "    # low alpha means each document is only represented by a small number of topics, and vice versa\n",
    "    # low eta means each topic is only represented by a small number of words, and vice versa\n",
    "    lda = LdaModel(corpus=corpus, num_topics=num_topics, id2word=dictionary,\n",
    "                   alpha=1e-2, eta=0.5e-2, chunksize=chunksize, minimum_probability=0.0, passes=2)\n",
    "    t2 = time.time()\n",
    "    print(\"Time to train LDA model on \", len(df), \"articles: \", (t2-t1)/60, \"min\")\n",
    "    return dictionary,corpus,lda"
   ]
  },
  {
   "cell_type": "code",
   "execution_count": 102,
   "metadata": {},
   "outputs": [
    {
     "name": "stdout",
     "output_type": "stream",
     "text": [
      "Time to train LDA model on  13322 articles:  2.3500609278678892 min\n"
     ]
    }
   ],
   "source": [
    "dictionary,corpus,lda = train_lda(train_df)"
   ]
  },
  {
   "cell_type": "code",
   "execution_count": 103,
   "metadata": {},
   "outputs": [
    {
     "data": {
      "text/plain": [
       "[(65,\n",
       "  '0.116*\"economi\" + 0.071*\"debat\" + 0.050*\"presidenti\" + 0.025*\"polit\" + 0.014*\"social\" + 0.014*\"time\" + 0.013*\"think\" + 0.013*\"today\" + 0.012*\"talk\" + 0.012*\"highli\" + 0.011*\"second\" + 0.011*\"news\" + 0.011*\"us\" + 0.011*\"first\" + 0.010*\"facebook\" + 0.009*\"discuss\" + 0.009*\"last\" + 0.008*\"term\" + 0.008*\"moment\" + 0.008*\"impact\"'),\n",
       " (75,\n",
       "  '0.062*\"sunday\" + 0.047*\"monday\" + 0.042*\"news\" + 0.041*\"new\" + 0.039*\"york\" + 0.030*\"confer\" + 0.029*\"post\" + 0.024*\"report\" + 0.022*\"announc\" + 0.021*\"mike\" + 0.018*\"suffer\" + 0.017*\"morn\" + 0.016*\"host\" + 0.016*\"afternoon\" + 0.015*\"meet\" + 0.012*\"threaten\" + 0.012*\"morgan\" + 0.012*\"incid\" + 0.011*\"interview\" + 0.011*\"pro\"'),\n",
       " (43,\n",
       "  '0.119*\"win\" + 0.094*\"game\" + 0.030*\"east\" + 0.025*\"team\" + 0.024*\"span\" + 0.021*\"first\" + 0.020*\"lose\" + 0.020*\"lead\" + 0.019*\"dan\" + 0.018*\"finish\" + 0.017*\"beat\" + 0.015*\"record\" + 0.014*\"titl\" + 0.014*\"tie\" + 0.013*\"sport\" + 0.013*\"chanc\" + 0.013*\"three\" + 0.012*\"award\" + 0.012*\"sunday\" + 0.011*\"second\"'),\n",
       " (51,\n",
       "  '0.124*\"dc\" + 0.105*\"citi\" + 0.048*\"council\" + 0.039*\"owner\" + 0.030*\"say\" + 0.025*\"resid\" + 0.023*\"park\" + 0.023*\"area\" + 0.021*\"offic\" + 0.020*\"apart\" + 0.019*\"home\" + 0.018*\"build\" + 0.018*\"move\" + 0.017*\"dog\" + 0.017*\"member\" + 0.017*\"local\" + 0.013*\"space\" + 0.012*\"walker\" + 0.012*\"live\" + 0.012*\"place\"'),\n",
       " (53,\n",
       "  '0.201*\"prioriti\" + 0.183*\"list\" + 0.059*\"trigger\" + 0.052*\"eric\" + 0.044*\"nanci\" + 0.041*\"googl\" + 0.040*\"assign\" + 0.034*\"religi\" + 0.032*\"religion\" + 0.027*\"search\" + 0.026*\"natali\" + 0.024*\"here\" + 0.023*\"yell\" + 0.018*\"god\" + 0.013*\"twelv\" + 0.013*\"journalist\" + 0.011*\"ed\" + 0.011*\"occasion\" + 0.011*\"nonsens\" + 0.010*\"book\"'),\n",
       " (3,\n",
       "  '0.024*\"season\" + 0.023*\"year\" + 0.022*\"run\" + 0.017*\"like\" + 0.017*\"time\" + 0.016*\"he\" + 0.016*\"good\" + 0.016*\"start\" + 0.014*\"got\" + 0.013*\"fan\" + 0.013*\"team\" + 0.013*\"last\" + 0.012*\"one\" + 0.011*\"guy\" + 0.011*\"hit\" + 0.011*\"get\" + 0.011*\"best\" + 0.010*\"still\" + 0.009*\"great\" + 0.009*\"first\"'),\n",
       " (44,\n",
       "  '0.090*\"record\" + 0.084*\"allen\" + 0.060*\"dan\" + 0.041*\"brother\" + 0.030*\"entertain\" + 0.028*\"magic\" + 0.025*\"ron\" + 0.021*\"singl\" + 0.021*\"weird\" + 0.020*\"seth\" + 0.019*\"nois\" + 0.018*\"bell\" + 0.017*\"daniel\" + 0.016*\"dc\" + 0.016*\"arguabl\" + 0.014*\"loud\" + 0.014*\"dave\" + 0.013*\"peac\" + 0.012*\"benjamin\" + 0.011*\"dip\"'),\n",
       " (40,\n",
       "  '0.459*\"none\" + 0.125*\"id\" + 0.073*\"name\" + 0.054*\"protect\" + 0.050*\"favorit\" + 0.049*\"locat\" + 0.047*\"place\" + 0.023*\"us\" + 0.018*\"time\" + 0.018*\"dc\" + 0.014*\"wed\" + 0.014*\"fri\" + 0.012*\"web\" + 0.009*\"small\" + 0.006*\"larg\" + 0.006*\"sat\" + 0.005*\"washington\" + 0.003*\"love\" + 0.003*\"fan\" + 0.002*\"lindsay\"'),\n",
       " (92,\n",
       "  '0.059*\"game\" + 0.037*\"team\" + 0.032*\"play\" + 0.025*\"coach\" + 0.023*\"yard\" + 0.023*\"season\" + 0.017*\"washington\" + 0.016*\"field\" + 0.015*\"player\" + 0.014*\"back\" + 0.012*\"ball\" + 0.012*\"week\" + 0.012*\"said\" + 0.011*\"two\" + 0.011*\"practic\" + 0.011*\"injuri\" + 0.010*\"mike\" + 0.010*\"receiv\" + 0.009*\"last\" + 0.009*\"first\"'),\n",
       " (76,\n",
       "  '0.098*\"soccer\" + 0.080*\"match\" + 0.062*\"champion\" + 0.057*\"club\" + 0.054*\"gold\" + 0.043*\"tech\" + 0.041*\"georgia\" + 0.039*\"stat\" + 0.032*\"olymp\" + 0.031*\"unit\" + 0.026*\"taylor\" + 0.026*\"noon\" + 0.023*\"citi\" + 0.021*\"ring\" + 0.020*\"wang\" + 0.018*\"mindset\" + 0.017*\"pool\" + 0.016*\"centera\" + 0.014*\"silver\" + 0.013*\"goal\"')]"
      ]
     },
     "execution_count": 103,
     "metadata": {},
     "output_type": "execute_result"
    }
   ],
   "source": [
    "# show_topics method shows the the top num_words contributing to num_topics number of random topics\n",
    "lda.show_topics(num_topics=10, num_words=20)"
   ]
  },
  {
   "cell_type": "code",
   "execution_count": 105,
   "metadata": {},
   "outputs": [
    {
     "data": {
      "text/plain": [
       "[('obama', 0.24887075),\n",
       " ('presid', 0.17353348),\n",
       " ('white', 0.05953011),\n",
       " ('hous', 0.04261489),\n",
       " ('clinton', 0.042233687),\n",
       " ('ad', 0.01827835),\n",
       " ('john', 0.013371213),\n",
       " ('american', 0.012922388),\n",
       " ('attack', 0.012455684),\n",
       " ('ezra', 0.01120827),\n",
       " ('barack', 0.011185646),\n",
       " ('campaign', 0.010341723),\n",
       " ('say', 0.010113728),\n",
       " ('press', 0.009826403),\n",
       " ('tuesday', 0.0093497615),\n",
       " ('talk', 0.009024382),\n",
       " ('polit', 0.008715999),\n",
       " ('new', 0.008258153),\n",
       " ('clear', 0.007409679),\n",
       " ('four', 0.007314558)]"
      ]
     },
     "execution_count": 105,
     "metadata": {},
     "output_type": "execute_result"
    }
   ],
   "source": [
    "lda.show_topic(topicid=85, topn=20)"
   ]
  },
  {
   "cell_type": "code",
   "execution_count": 106,
   "metadata": {},
   "outputs": [
    {
     "data": {
      "text/plain": [
       "[('sunday', 0.06213536),\n",
       " ('monday', 0.046883617),\n",
       " ('news', 0.04195037),\n",
       " ('new', 0.04112747),\n",
       " ('york', 0.039213676),\n",
       " ('confer', 0.029924309),\n",
       " ('post', 0.02861682),\n",
       " ('report', 0.023610873),\n",
       " ('announc', 0.022387983),\n",
       " ('mike', 0.020601342),\n",
       " ('suffer', 0.017634014),\n",
       " ('morn', 0.016708434),\n",
       " ('host', 0.015854016),\n",
       " ('afternoon', 0.015618858),\n",
       " ('meet', 0.015267099),\n",
       " ('threaten', 0.012331498),\n",
       " ('morgan', 0.012191579),\n",
       " ('incid', 0.011801389),\n",
       " ('interview', 0.0109606),\n",
       " ('pro', 0.010605792)]"
      ]
     },
     "execution_count": 106,
     "metadata": {},
     "output_type": "execute_result"
    }
   ],
   "source": [
    "lda.show_topic(topicid=75, topn=20)"
   ]
  },
  {
   "cell_type": "code",
   "execution_count": 108,
   "metadata": {},
   "outputs": [
    {
     "name": "stdout",
     "output_type": "stream",
     "text": [
      "                                                 content  \\\n",
      "0      ExpressMonth of MuscleBy Vicky Hallett13256089...   \n",
      "1      ExpressMore Home Work(outs)By Vicky Hallett132...   \n",
      "2      ExpressFind a Place in the CrowdBy Dr. Andrea ...   \n",
      "3      ExpressJanuary Gym DealsBy Vicky Hallett132561...   \n",
      "4      ExpressPumping IronyBy Vicky Hallett1325610957...   \n",
      "5      ExpressStreet NonsenseBy Rudi Greenberg1325630...   \n",
      "6      ExpressStreet NonsenseBy Rudi Greenberg1325630...   \n",
      "7      ExpressSelf-Help for NerdsBy Rudi Greenberg132...   \n",
      "8      ExpressAlways Up For a ChangeBy Stephen M. Deu...   \n",
      "9      ExpressWhat the Devil?By Kristen Page-Kirby132...   \n",
      "10     ExpressCharacter DevelopmentBy Kristen Page-Ki...   \n",
      "11     ExpressOn the Spot: Eric WeinerBy Fiona Zublin...   \n",
      "12     ExpressWordy! Verbose! Prolix!By Katie Aberbac...   \n",
      "13     ExpressRejects' RevivalBy Katie Aberbach132577...   \n",
      "14     ExpressUncommonly GoodBy Kristen Page-Kirby132...   \n",
      "15     ExpressFace Time: Marc MorroneBy Express132584...   \n",
      "16     ExpressBoard Riffs, Owl RackBy Jennifer Barger...   \n",
      "17     ExpressThe Boot That's At IssueBy The Manolo13...   \n",
      "18     ExpressBoozy BakingBy Katherine Boyle132584799...   \n",
      "19     ExpressThe Wild CardBy Vicky Hallett1325849525...   \n",
      "20     ExpressNew Year, New MusicBy Christopher Porte...   \n",
      "21     ExpressStanding Still’s Not a ChoiceBy Vicky H...   \n",
      "22     ExpressGear Up for Quitting TimeBy Dr. Andrea ...   \n",
      "23     ExpressThe Course CorrectionsBy Vicky Hallett1...   \n",
      "24     ExpressWhat Should the Doc Order?By Vicky Hall...   \n",
      "25     ExpressJust Ask for DirectionsBy Vicky Hallett...   \n",
      "26     ExpressIt’s for ComedyBy Rudi Greenberg1326236...   \n",
      "27     ExpressOn the Spot: Claire Healy and Sean Cord...   \n",
      "28     ExpressWhat America Isn’t HearingBy Kristen Pa...   \n",
      "29     ExpressTaken With TabathaBy Marc Silver1326324...   \n",
      "...                                                  ...   \n",
      "13274  The FixMcConnell: ‘We are very, very close’By ...   \n",
      "13275  The FixMcConnell: ‘We are very, very close’By ...   \n",
      "13276  Post PoliticsMcConnell: We’re ‘very close’By R...   \n",
      "13277  Early LeadJon Gruden will interview for NFL jo...   \n",
      "13278  The Plum LineA combative Obama calls, again, f...   \n",
      "13279  WonkblogObama’s wrong: This ‘cliff’ deal still...   \n",
      "13280  Washington NationalsNationals prospects review...   \n",
      "13281  WonkblogTuesday’s tax increase is the biggest ...   \n",
      "13282  The InsiderMike Shanahan: Cedric Griffin eligi...   \n",
      "13283  Post PoliticsBarney Frank opposes Hagel for de...   \n",
      "13284  WonkblogHere’s what Republicans really hated a...   \n",
      "13285  Post PoliticsNo House votes tonightBy Rosalind...   \n",
      "13286  2chambersWife of Rep. John Lewis diesBy Ed O'K...   \n",
      "13287  Right Turn‘Fiscal-cliff’ resolutionBy Jennifer...   \n",
      "13288  Erik WempleHillary Clinton’s health: How to pr...   \n",
      "13289  Post PoliticsClinton has blood clot near brain...   \n",
      "13290  Washington NationalsThe Nationals’ top stories...   \n",
      "13291  PostPartisanPostScript: Perfect ending along c...   \n",
      "13292  The InsiderKyle Shanahan won’t interview for v...   \n",
      "13293  The Plum LineA deal liberals can live with — p...   \n",
      "13294  WonkblogAIG to America: Thanks, guys!By Neil I...   \n",
      "13295  WonkblogFive facts about the Biden-McConnell d...   \n",
      "13296  WonkblogFive facts about the Biden-McConnell d...   \n",
      "13297  Washington WizardsTrevor Ariza hoping to retur...   \n",
      "13298  Post PoliticsRand Paul: Deal ‘will pass with b...   \n",
      "13299  Post PoliticsU.S. officially hits debt ceiling...   \n",
      "13300  Post PoliticsHouse likely to adjourn until noo...   \n",
      "13301  WonkblogWho would foot the higher 2013 tax bil...   \n",
      "13302  Post PoliticsSenate vote later ‘highly likely,...   \n",
      "13303  Post PoliticsBiden to visit Hill tonight: Repo...   \n",
      "\n",
      "                                               tokenized  \n",
      "0      [vicki, trainer, nicol, nichol, ask, day, get,...  \n",
      "1      [home, vicki, train, jacki, day, fast, bodi, j...  \n",
      "2      [place, dr, andrea, feel, like, im, constantli...  \n",
      "3      [gym, vicki, quit, possibl, worst, time, year,...  \n",
      "4      [vicki, method, slim, involv, frozen, food, sm...  \n",
      "5      [rudi, billi, game, show, host, twitter, gener...  \n",
      "6      [rudi, billi, game, show, host, twitter, gener...  \n",
      "7      [rudi, aim, move, geek, real, first, book, way...  \n",
      "8      [stephen, readi, second, decad, experiment, en...  \n",
      "9      [kristen, devil, insid, friday, follow, woman,...  \n",
      "10     [kristen, bring, up, down, life, gay, teen, bi...  \n",
      "11     [expresson, spot, eric, fiona, hospit, turn, h...  \n",
      "12     [kati, mel, work, captur, chang, cultur, natio...  \n",
      "13     [kati, washington, rescu, altern, vision, capi...  \n",
      "14     [kristen, truth, univers, acknowledg, davi, ta...  \n",
      "15     [expressfac, time, marc, stewart, goto, anim, ...  \n",
      "16     [riff, jennif, thick, itstrong, lock, alway, s...  \n",
      "17     [expressth, boot, that, search, perfect, pair,...  \n",
      "18     [katherin, right, pie, cupcak, two, someth, vi...  \n",
      "19     [expressth, wild, vicki, could, whistl, that, ...  \n",
      "20     [year, new, christoph, new, year, kick, find, ...  \n",
      "21     [still, vicki, bleak, obes, stat, prove, physi...  \n",
      "22     [quit, timebi, dr, andrea, year, gone, anoth, ...  \n",
      "23     [expressth, cours, vicki, chef, wife, menu, ke...  \n",
      "24     [doc, vicki, coach, promis, method, treat, don...  \n",
      "25     [ask, vicki, dark, realiz, couldnt, slim, got,...  \n",
      "26     [rudi, chang, slogan, alway, slightli, signal,...  \n",
      "27     [expresson, spot, clair, heali, sean, kristen,...  \n",
      "28     [america, isnt, kristen, voic, america, news, ...  \n",
      "29     [marc, killer, flu, left, unabl, much, besid, ...  \n",
      "...                                                  ...  \n",
      "13274  [aaron, sure, sign, receivea, hrefhttpssslwash...  \n",
      "13275  [aaron, sure, sign, receivea, hrefhttpssslwash...  \n",
      "13276  [post, rachel, weiner, rosalind, senat, floor,...  \n",
      "13277  [earli, gruden, interview, nfl, job, report, s...  \n",
      "13278  [plum, linea, comb, obama, call, balanc, dealb...  \n",
      "13279  [wonkblogobama, wrong, cliff, deal, still, rai...  \n",
      "13280  [washington, nationalsn, prospect, review, nat...  \n",
      "13281  [tax, increas, biggest, zachari, broad, like, ...  \n",
      "13282  [shanahan, cedric, griffin, elig, return, mike...  \n",
      "13283  [post, frank, oppos, hagel, defens, rachel, fr...  \n",
      "13284  [republican, realli, hate, obama, news, ezra, ...  \n",
      "13285  [post, hous, vote, rosalind, action, senat, le...  \n",
      "13286  [rep, john, lewi, ed, wife, rep, john, lewi, d...  \n",
      "13287  [right, jennif, appear, republican, democrat, ...  \n",
      "13288  [erik, clinton, health, properli, express, ske...  \n",
      "13289  [post, blood, near, brain, make, excel, david,...  \n",
      "13290  [washington, nation, top, stori, adam, kilgore...  \n",
      "13291  [perfect, end, along, cliff, edg, plum, rachel...  \n",
      "13292  [shanahan, wont, interview, vacanc, redskin, s...  \n",
      "13293  [plum, linea, deal, liber, live, pend, part, j...  \n",
      "13294  [america, thank, neil, giant, insur, compani, ...  \n",
      "13295  [fact, dealbi, suzi, khimmth, first, thing, ev...  \n",
      "13296  [fact, dealbi, suzi, khimmth, first, thing, ev...  \n",
      "13297  [washington, ariza, hope, return, weekbi, mich...  \n",
      "13298  [post, paul, deal, pass, bipartisan, felicia, ...  \n",
      "13299  [post, offici, hit, debt, felicia, post, treas...  \n",
      "13300  [post, like, noon, ed, senat, leader, work, de...  \n",
      "13301  [would, foot, higher, tax, bill, one, chartbi,...  \n",
      "13302  [post, vote, later, highli, like, corker, says...  \n",
      "13303  [post, politicsbiden, visit, hill, tonight, fe...  \n",
      "\n",
      "[13304 rows x 2 columns]\n"
     ]
    }
   ],
   "source": [
    "# select and article at random from train_df\n",
    "print (train_df)\n",
    "random_article_index = np.random.randint(len(train_df))\n",
    "bow = dictionary.doc2bow(train_df.iloc[random_article_index,1])"
   ]
  },
  {
   "cell_type": "code",
   "execution_count": 109,
   "metadata": {},
   "outputs": [
    {
     "name": "stdout",
     "output_type": "stream",
     "text": [
      "['district', 'dc', 'onlin', 'absente', 'ballot', 'request', 'form', 'mike', 'littl', 'three', 'week', 'remain', 'deadlin', 'dc', 'resid', 'request', 'absente', 'ballot', 'nov', 'elect', 'need', 'current', 'unabl', 'absente', 'board', 'elect', 'web', 'onlin', 'absente', 'function', 'give', 'user', 'error', 'tri', 'display', 'person', 'applic', 'form', 'url', 'valid', 'pleas', 'tri', 'resid', 'contact', 'said', 'function', 'day', 'altern', 'haul', 'board', 'offic', 'one', 'judiciari', 'squar', 'william', 'said', 'board', 'staff', 'awar', 'work', 'resolv', 'yet', 'respond', 'question', 'long', 'fix', 'might', 'ballot', 'applic', 'must', 'receiv', 'board', 'oct', 'onlin', 'function', 'use', 'onlin', 'form', 'popul', 'pdf', 'file', 'still', 'must', 'print', 'mail', 'board', 'might', 'suggest', 'easi', 'fix', 'ditch', 'featur', 'post', 'blank', 'pmstrong', 'even', 'wors', 'first', 'indic', 'absente', 'ballot', 'function', 'broken', 'form', 'regist', 'vote', 'updat', 'registr', 'also', 'broken', 'applic', 'regist', 'updat', 'exist', 'registr', 'due', 'next', 'tuesday', 'oct', 'voter', 'unabl', 'regist', 'updat', 'registr', 'may', 'cast', 'provision', 'ballot', 'nov', 'registr', 'function', 'like', 'absente', 'function', 'pdf', 'form', 'post', 'blank', 'form', 'fill', 'hand', 'would', 'fix', 'pmstrong', 'everyth', 'seem', 'work']\n"
     ]
    }
   ],
   "source": [
    "print(train_df.iloc[random_article_index,1])"
   ]
  },
  {
   "cell_type": "code",
   "execution_count": 110,
   "metadata": {},
   "outputs": [],
   "source": [
    "# get the topic contributions for the document chosen at random above\n",
    "doc_distribution = np.array([tup[1] for tup in lda.get_document_topics(bow=bow)])"
   ]
  },
  {
   "cell_type": "code",
   "execution_count": 111,
   "metadata": {},
   "outputs": [
    {
     "data": {
      "image/png": "[encoded data removed]",
      "text/plain": [
       "<Figure size 864x432 with 1 Axes>"
      ]
     },
     "metadata": {},
     "output_type": "display_data"
    }
   ],
   "source": [
    "# bar plot of topic distribution for this document\n",
    "fig, ax = plt.subplots(figsize=(12,6));\n",
    "# the histogram of the data\n",
    "patches = ax.bar(np.arange(len(doc_distribution)), doc_distribution)\n",
    "ax.set_xlabel('Topic ID', fontsize=15)\n",
    "ax.set_ylabel('Topic Contribution', fontsize=15)\n",
    "ax.set_title(\"Topic Distribution for Article \" + str(random_article_index), fontsize=20)\n",
    "ax.set_xticks(np.linspace(10,100,10))\n",
    "fig.tight_layout()\n",
    "plt.show()"
   ]
  },
  {
   "cell_type": "code",
   "execution_count": 112,
   "metadata": {},
   "outputs": [
    {
     "name": "stdout",
     "output_type": "stream",
     "text": [
      "31 [('year', 0.011270009), ('new', 0.009736547), ('us', 0.008032987), ('use', 0.007563862), ('would', 0.0073378053), ('assault', 0.006781358), ('data', 0.006501206), ('compromis', 0.006128381), ('may', 0.005965141), ('could', 0.005914112)] \n",
      "\n",
      "37 [('would', 0.04219999), ('one', 0.014852472), ('like', 0.013893044), ('even', 0.013502857), ('make', 0.012557653), ('could', 0.012311041), ('say', 0.011327057), ('voter', 0.00862586), ('right', 0.008143847), ('much', 0.007574571)] \n",
      "\n",
      "7 [('percent', 0.072026), ('vote', 0.06857191), ('state', 0.037967615), ('among', 0.015036519), ('number', 0.013106302), ('new', 0.012905945), ('show', 0.012758089), ('like', 0.012128837), ('major', 0.011957468), ('obama', 0.010475379)] \n",
      "\n",
      "67 [('congress', 0.09602123), ('debt', 0.08525257), ('propos', 0.051787805), ('plan', 0.05026377), ('rule', 0.02662527), ('member', 0.023449948), ('meet', 0.021981701), ('presid', 0.020512866), ('board', 0.018201351), ('would', 0.015614379)] \n",
      "\n",
      "57 [('elect', 0.065584235), ('campaign', 0.04232539), ('candid', 0.03049888), ('run', 0.023168335), ('race', 0.020890888), ('polit', 0.020779094), ('presid', 0.020724036), ('post', 0.018605253), ('vote', 0.015639912), ('committe', 0.014894763)] \n",
      "\n"
     ]
    }
   ],
   "source": [
    "# print the top 5 contributing topics and their words\n",
    "for i in doc_distribution.argsort()[-5:][::-1]:\n",
    "    print(i, lda.show_topic(topicid=i, topn=10), \"\\n\")"
   ]
  },
  {
   "cell_type": "code",
   "execution_count": 113,
   "metadata": {},
   "outputs": [
    {
     "name": "stdout",
     "output_type": "stream",
     "text": [
      "16\n"
     ]
    }
   ],
   "source": [
    "# select and article at random from test_df\n",
    "len(test_df)\n",
    "random_article_index = np.random.randint(len(test_df))\n",
    "print(random_article_index)"
   ]
  },
  {
   "cell_type": "code",
   "execution_count": 114,
   "metadata": {},
   "outputs": [],
   "source": [
    "new_bow = dictionary.doc2bow(test_df.iloc[random_article_index,1])"
   ]
  },
  {
   "cell_type": "code",
   "execution_count": 115,
   "metadata": {},
   "outputs": [
    {
     "name": "stdout",
     "output_type": "stream",
     "text": [
      "['feder', 'debut', 'eric', 'main', 'inform', 'benefit', 'launch', 'youtubea', 'initi', 'video', 'use', 'site', 'recommend', 'site', 'visitor', 'investig', 'benefit', 'may', 'qualifi', 'inform', 'hand', 'regard', 'famili', 'educ', 'career', 'incom', 'current', 'benefit', 'receiv', 'also', 'recommend', 'answer', 'mani', 'question', 'possibl', 'even', 'respons', 'option', 'best', 'determin', 'note', 'benefit', 'may', 'avail', 'famili', 'member', 'one', 'militari', 'veteran', 'featur', 'includ', 'email', 'updat', 'program', 'site', 'featur', 'previous', 'establish', 'presenc']\n"
     ]
    }
   ],
   "source": [
    "print(test_df.iloc[random_article_index,1])"
   ]
  },
  {
   "cell_type": "code",
   "execution_count": 116,
   "metadata": {},
   "outputs": [],
   "source": [
    "new_doc_distribution = np.array([tup[1] for tup in lda.get_document_topics(bow=new_bow)])"
   ]
  },
  {
   "cell_type": "code",
   "execution_count": 117,
   "metadata": {},
   "outputs": [
    {
     "data": {
      "image/png": "[encoded data removed]",
      "text/plain": [
       "<Figure size 864x432 with 1 Axes>"
      ]
     },
     "metadata": {},
     "output_type": "display_data"
    }
   ],
   "source": [
    "# bar plot of topic distribution for this document\n",
    "fig, ax = plt.subplots(figsize=(12,6));\n",
    "# the histogram of the data\n",
    "patches = ax.bar(np.arange(len(new_doc_distribution)), new_doc_distribution)\n",
    "ax.set_xlabel('Topic ID', fontsize=15)\n",
    "ax.set_ylabel('Topic Contribution', fontsize=15)\n",
    "ax.set_title(\"Topic Distribution for an Unseen Article\", fontsize=20)\n",
    "ax.set_xticks(np.linspace(10,100,10))\n",
    "fig.tight_layout()\n",
    "plt.show()"
   ]
  },
  {
   "cell_type": "code",
   "execution_count": 126,
   "metadata": {},
   "outputs": [
    {
     "name": "stdout",
     "output_type": "stream",
     "text": [
      "31 [('year', 0.011270009), ('new', 0.009736547), ('us', 0.008032987), ('use', 0.007563862), ('would', 0.0073378053), ('assault', 0.006781358), ('data', 0.006501206), ('compromis', 0.006128381), ('may', 0.005965141), ('could', 0.005914112)] \n",
      "\n",
      "5 [('health', 0.14814451), ('law', 0.094460875), ('care', 0.08991048), ('doctor', 0.042856213), ('medic', 0.0380091), ('hospit', 0.03648955), ('afford', 0.031693146), ('cost', 0.025716305), ('benefit', 0.024496898), ('treatment', 0.020304816)] \n",
      "\n",
      "80 [('feder', 0.054281473), ('state', 0.04872759), ('govern', 0.042264838), ('secur', 0.036886234), ('administr', 0.023794074), ('program', 0.021981915), ('social', 0.018941257), ('depart', 0.015019455), ('law', 0.013917707), ('intern', 0.012199547)] \n",
      "\n",
      "3 [('season', 0.024451772), ('year', 0.022729669), ('run', 0.021758134), ('like', 0.017416492), ('time', 0.016637132), ('he', 0.016319953), ('good', 0.015880434), ('start', 0.01561845), ('got', 0.0140726585), ('fan', 0.013029495)] \n",
      "\n",
      "4 [('cut', 0.080446534), ('rate', 0.047544535), ('hous', 0.043820824), ('increas', 0.032724015), ('rais', 0.028813822), ('percent', 0.027579803), ('incom', 0.02556303), ('billion', 0.025309654), ('would', 0.023406724), ('american', 0.017779075)] \n",
      "\n",
      "59 [('famili', 0.23913057), ('special', 0.11258009), ('provis', 0.062687054), ('child', 0.05624812), ('rais', 0.049237605), ('fundrais', 0.03876639), ('contribut', 0.025167005), ('colbert', 0.023259174), ('penn', 0.021076426), ('categori', 0.020899145)] \n",
      "\n",
      "79 [('black', 0.0774812), ('work', 0.04182819), ('art', 0.031595577), ('valeri', 0.03126255), ('medium', 0.027126621), ('arrest', 0.025477694), ('lincoln', 0.022305004), ('neighborhood', 0.021582797), ('babi', 0.019057402), ('georgetown', 0.018224886)] \n",
      "\n",
      "26 [('offens', 0.12936087), ('rank', 0.069004826), ('jackson', 0.037943352), ('averag', 0.030752243), ('nick', 0.020234082), ('tue', 0.017718466), ('threw', 0.01727136), ('sunday', 0.017199522), ('th', 0.014723793), ('rob', 0.01446302)] \n",
      "\n",
      "67 [('congress', 0.09602123), ('debt', 0.08525257), ('propos', 0.051787805), ('plan', 0.05026377), ('rule', 0.02662527), ('member', 0.023449948), ('meet', 0.021981701), ('presid', 0.020512866), ('board', 0.018201351), ('would', 0.015614379)] \n",
      "\n",
      "45 [('reform', 0.12389957), ('educ', 0.12040504), ('public', 0.04089804), ('solv', 0.032462947), ('score', 0.021091934), ('achiev', 0.020782497), ('elimin', 0.019385), ('reduc', 0.016813854), ('equal', 0.014734178), ('unabl', 0.013931205)] \n",
      "\n"
     ]
    }
   ],
   "source": [
    "# print the top 8 contributing topics and their words\n",
    "for i in new_doc_distribution.argsort()[-10:][::-1]:\n",
    "    print(i, lda.show_topic(topicid=i, topn=10), \"\\n\")"
   ]
  },
  {
   "cell_type": "code",
   "execution_count": 135,
   "metadata": {},
   "outputs": [
    {
     "name": "stdout",
     "output_type": "stream",
     "text": [
      "[[4.6539571e-05 4.6539571e-05 4.6539571e-05 ... 4.6539571e-05\n",
      "  4.6539571e-05 4.6539571e-05]\n",
      " [9.5321455e-05 9.5321455e-05 9.5321455e-05 ... 9.5321455e-05\n",
      "  9.5321455e-05 9.5321455e-05]\n",
      " [5.7826583e-05 5.9565804e-03 5.7826583e-05 ... 5.7826583e-05\n",
      "  5.7826583e-05 5.7826583e-05]\n",
      " ...\n",
      " [1.3160636e-04 1.3160636e-04 1.3160636e-04 ... 1.3160636e-04\n",
      "  1.3160636e-04 1.3160636e-04]\n",
      " [1.4288403e-04 1.4288403e-04 1.4288403e-04 ... 1.4288403e-04\n",
      "  1.4288403e-04 1.4288403e-04]\n",
      " [7.0378050e-02 2.0411547e-04 2.0411547e-04 ... 2.0411547e-04\n",
      "  2.0411547e-04 2.0411547e-04]]\n"
     ]
    }
   ],
   "source": [
    "# we need to use nested list comprehension here\n",
    "# this may take 1-2 minutes...\n",
    "doc_topic_dist = np.array([[tup[1] for tup in lst] for lst in lda[corpus]])\n",
    "doc_topic_dist.shape\n",
    "print(doc_topic_dist)"
   ]
  },
  {
   "cell_type": "code",
   "execution_count": 120,
   "metadata": {},
   "outputs": [],
   "source": [
    "def jensen_shannon(query, matrix):\n",
    "    \"\"\"\n",
    "    This function implements a Jensen-Shannon similarity\n",
    "    between the input query (an LDA topic distribution for a document)\n",
    "    and the entire corpus of topic distributions.\n",
    "    It returns an array of length M where M is the number of documents in the corpus\n",
    "    \"\"\"\n",
    "    # lets keep with the p,q notation above\n",
    "    p = query[None,:].T # take transpose\n",
    "    q = matrix.T # transpose matrix\n",
    "    m = 0.5*(p + q)\n",
    "    return np.sqrt(0.5*(entropy(p,m) + entropy(q,m)))"
   ]
  },
  {
   "cell_type": "code",
   "execution_count": 121,
   "metadata": {},
   "outputs": [],
   "source": [
    "def get_most_similar_documents(query,matrix,k=10):\n",
    "    \"\"\"\n",
    "    This function implements the Jensen-Shannon distance above\n",
    "    and retruns the top k indices of the smallest jensen shannon distances\n",
    "    \"\"\"\n",
    "    sims = jensen_shannon(query,matrix) # list of jensen shannon distances\n",
    "    return sims.argsort()[:k] # the top k positional index of the smallest Jensen Shannon distances"
   ]
  },
  {
   "cell_type": "code",
   "execution_count": 122,
   "metadata": {},
   "outputs": [],
   "source": [
    "# this is surprisingly fast\n",
    "most_sim_ids = get_most_similar_documents(new_doc_distribution,doc_topic_dist)"
   ]
  },
  {
   "cell_type": "code",
   "execution_count": 140,
   "metadata": {},
   "outputs": [
    {
     "name": "stdout",
     "output_type": "stream",
     "text": [
      "[11553  3323  1187 11728  8797 11143  4370  4163  2333  2305]\n",
      "                                                 content  \\\n",
      "1187   WonkblogMarten Gilens’s ‘Affluence and Influen...   \n",
      "2305   Post PoliticsBoehner factcheckedBy Glenn Kessl...   \n",
      "2333   Post PoliticsFact Check: Rick Santorum on welf...   \n",
      "3323   WonkblogCongressional Research Service: Obama’...   \n",
      "4163   Maryland TerrapinsMaryland releases five-year ...   \n",
      "4370   WonkblogMissouri court: Yes, the feds can mand...   \n",
      "8797   WonkblogIs Obamacare too much work for the Oba...   \n",
      "11143  Right TurnU.S. Senate stands up for human righ...   \n",
      "11553  WorldViewsHow did North Korea fix its rocket p...   \n",
      "11728  Federal InsiderLocal House members oppose pote...   \n",
      "\n",
      "                                               tokenized  \n",
      "1187   [ezra, kleina, influenc, econom, inequ, polit,...  \n",
      "2305   [post, glenn, stylefontfamili, default, time, ...  \n",
      "2333   [post, politicsfact, check, rick, santorum, we...  \n",
      "3323   [research, servic, obama, welfar, polici, dyla...  \n",
      "4163   [maryland, terrapinsmaryland, releas, fiveyear...  \n",
      "4370   [court, ye, fed, mandat, contracept, sarah, kl...  \n",
      "8797   [wonkblog, obamacar, much, work, obama, sarah,...  \n",
      "11143  [right, senat, stand, human, jennif, mani, tim...  \n",
      "11553  [north, korea, fix, rocket, program, max, fish...  \n",
      "11728  [feder, hous, member, oppos, potenti, job, eri...  \n"
     ]
    }
   ],
   "source": [
    "print(most_sim_ids)\n",
    "most_similar_df = train_df[train_df.index.isin(most_sim_ids)]\n",
    "print (most_similar_df)"
   ]
  },
  {
   "cell_type": "code",
   "execution_count": null,
   "metadata": {},
   "outputs": [],
   "source": []
  }
 ],
 "metadata": {
  "kernelspec": {
   "display_name": "Python 3",
   "language": "python",
   "name": "python3"
  },
  "language_info": {
   "codemirror_mode": {
    "name": "ipython",
    "version": 3
   },
   "file_extension": ".py",
   "mimetype": "text/x-python",
   "name": "python",
   "nbconvert_exporter": "python",
   "pygments_lexer": "ipython3",
   "version": "3.7.1"
  }
 },
 "nbformat": 4,
 "nbformat_minor": 2
}
